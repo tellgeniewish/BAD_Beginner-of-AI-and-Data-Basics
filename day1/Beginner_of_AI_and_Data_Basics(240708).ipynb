{
  "nbformat": 4,
  "nbformat_minor": 0,
  "metadata": {
    "colab": {
      "provenance": [],
      "toc_visible": true
    },
    "kernelspec": {
      "name": "python3",
      "display_name": "Python 3"
    },
    "language_info": {
      "name": "python"
    }
  },
  "cells": [
    {
      "cell_type": "code",
      "execution_count": null,
      "metadata": {
        "id": "PDa6cRfSWCUO",
        "colab": {
          "base_uri": "https://localhost:8080/"
        },
        "outputId": "1087f024-9c2f-49e7-c7f6-e57d63c3efaf"
      },
      "outputs": [
        {
          "output_type": "stream",
          "name": "stdout",
          "text": [
            "Hello, World!\n"
          ]
        }
      ],
      "source": [
        "print(\"Hello, World!\")\n",
        "# ctrl + enter 실행"
      ]
    },
    {
      "cell_type": "markdown",
      "source": [
        "\n",
        "텍스트의 개수만큼 목차가 생긴다\n",
        "\n",
        "연습\n",
        "#연습(#하나)\n",
        "##연습(#둘)\n",
        "###연습(#셋)\n",
        "'#'을 붙일수록 글씨가 작아진다\n",
        "---\n",
        "하계방학특강\n",
        "###[**AI와 데이터 기초 1급 초급**](https://sites.google.com/view/ai-data-analysis-2024-summer-1)\n",
        "https://sites.google.com/view/ai-data-analysis-2024-summer-1\n",
        "*240708*\n",
        "###[**AI와 데이터 기초 2급 중급**](https://sites.google.com/view/ai-data-analysis-2024-summer-2)\n",
        "https://sites.google.com/view/ai-data-analysis-2024-summer-2\n",
        "*240715*\n",
        "1.   컴퓨터학과\n",
        "2.   20211689\n",
        "\n",
        "*   데이터사이언스\n",
        "*   복전\n",
        "\n",
        "\n",
        "\n"
      ],
      "metadata": {
        "id": "p_2mak6XXJvE"
      }
    },
    {
      "cell_type": "markdown",
      "source": [
        "##연습1"
      ],
      "metadata": {
        "id": "6bfYp4dJXhf7"
      }
    },
    {
      "cell_type": "markdown",
      "source": [
        "##연습2"
      ],
      "metadata": {
        "id": "fZTppi5qXp68"
      }
    }
  ]
}