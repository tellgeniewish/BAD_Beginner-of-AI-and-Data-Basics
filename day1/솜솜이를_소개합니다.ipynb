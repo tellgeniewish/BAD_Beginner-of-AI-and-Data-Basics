{
  "nbformat": 4,
  "nbformat_minor": 0,
  "metadata": {
    "colab": {
      "provenance": []
    },
    "kernelspec": {
      "name": "python3",
      "display_name": "Python 3"
    },
    "language_info": {
      "name": "python"
    }
  },
  "cells": [
    {
      "cell_type": "code",
      "execution_count": 1,
      "metadata": {
        "colab": {
          "base_uri": "https://localhost:8080/"
        },
        "id": "nKUebKL4wcDG",
        "outputId": "c859cbe3-c1c9-4e38-ebfe-5ce36a7f96a3"
      },
      "outputs": [
        {
          "output_type": "stream",
          "name": "stdout",
          "text": [
            "안녕하세요\n",
            "솜솜이입니다.\n",
            "저에 대해 궁금한 점을 질문해주세요.나이는 몇 살이에요?\n",
            "저는 2살입니다.\n",
            "저에 대해 궁금한 점을 질문해주세요.어디 출신이에요?\n",
            "서울시 성북구입니다.\n",
            "저에 대해 궁금한 점을 질문해주세요.직업은 뭐에요?\n",
            "저는 동덕여자대학교 마스코트로 활동하고 있습니다.\n",
            "저에 대해 궁금한 점을 질문해주세요.나머지\n",
            "나머지 질문은 다음에....\n"
          ]
        }
      ],
      "source": [
        "print('안녕하세요')\n",
        "print('솜솜이입니다.')\n",
        "\n",
        "while True:\n",
        "  ques = input('저에 대해 궁금한 점을 질문해주세요.')\n",
        "  if '나이' in ques:\n",
        "    print('저는 2살입니다.')\n",
        "  elif '출신' in ques:\n",
        "    print('서울시 성북구입니다.')\n",
        "  elif '직업' in ques:\n",
        "    print('저는 동덕여자대학교 마스코트로 활동하고 있습니다.')\n",
        "  else:\n",
        "    print('나머지 질문은 다음에....')\n",
        "    break"
      ]
    }
  ]
}